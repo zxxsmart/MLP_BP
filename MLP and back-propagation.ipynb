{
 "cells": [
  {
   "cell_type": "markdown",
   "metadata": {},
   "source": [
    "# MLP and back-propagation\n",
    "Code link:"
   ]
  },
  {
   "cell_type": "markdown",
   "metadata": {},
   "source": [
    "## Abstract\n",
    "Using python to build a simple multi-layer perception with two input one output and one hidden layer. Training with back-propagation to optimize cost function and approaching the target function. "
   ]
  },
  {
   "cell_type": "markdown",
   "metadata": {},
   "source": [
    "## Preparations\n",
    "Using numpy for matrix operations and matplotlib for ploting figures"
   ]
  },
  {
   "cell_type": "code",
   "execution_count": 1,
   "metadata": {},
   "outputs": [],
   "source": [
    "import numpy as np\n",
    "import matplotlib.pyplot as plt"
   ]
  },
  {
   "cell_type": "markdown",
   "metadata": {},
   "source": [
    "The defination of our target function is simply given as :\n",
    "\\begin{equation}\n",
    "y=a*x_1+b*x_2\n",
    "\\end{equation}\n",
    "Input x is in 2-dimensional. Output is 1-dmensional. And we can set a=0.8, b=0.6. "
   ]
  },
  {
   "cell_type": "code",
   "execution_count": 2,
   "metadata": {},
   "outputs": [],
   "source": [
    "def targetfunc(x):\n",
    "    y=x[:,0]*0.8+x[:,1]*0.6\n",
    "    return y"
   ]
  },
  {
   "cell_type": "markdown",
   "metadata": {},
   "source": [
    "## MLP\n",
    "Building a MLP class which contains methods for calculating and training. \n",
    "\n",
    "### Structure\n",
    "![MLP](./MLP.png)\n",
    "As the figure shows, our MLP has two input unit, three hidden unit and one output unit. \n"
   ]
  },
  {
   "cell_type": "markdown",
   "metadata": {},
   "source": [
    "### Forward\n",
    "To calculate the output, we define a forward function in MLP class. We are using sigmoid function for the activation. So the steps are:\n",
    "$$\n",
    "z^{(2)} = XW^{(1)}\n",
    "$$\n",
    "$$\n",
    "a^{(2)} = f(z^{(2)}) \n",
    "$$\n",
    "$$\n",
    "z^{(3)} = a^{(2)}W^{(2)}\n",
    "$$\n",
    "$$\n",
    "\\hat{y} = f(z^{(3)})\n",
    "$$\n",
    "Which $W^{(1)}$ and $W^{(2)}$ are weights for every lines, $f$ is sigmoid function. "
   ]
  },
  {
   "cell_type": "markdown",
   "metadata": {},
   "source": [
    "### Back-propagation\n",
    "#### Cost Function\n",
    "The definition of cost function:\n",
    "$$\n",
    "E = \\sum \\frac{1}{2}(y-\\hat{y})^2\n",
    "$$\n",
    "\n",
    "#### Gradient Descent\n",
    "We use gradient to change weights of MLP:\n",
    "$$\n",
    "w + \\Delta w\n",
    "$$\n",
    "$$\n",
    "\\Delta w = -\\eta \\frac{\\partial E}{\\partial W}\n",
    "$$\n",
    "$\\eta$ is the learning rate.\n",
    "\n",
    "Using the defination and chain rule we finally get:\n",
    "$$\n",
    "\\frac{\\partial E}{\\partial W^{(2)}} = \n",
    "(a^{(2)})^T g^{(3)}\n",
    "$$\n",
    "$$\n",
    "g^{(3)} = -(y-\\hat{y}) f^\\prime(z^{(3)}) \n",
    "$$\n",
    "$$\n",
    "\\frac{\\partial E}{\\partial W^{(1)}} = \n",
    "X^{T} g^{(2)} \n",
    "$$\n",
    "$$\n",
    "g^{(2)} = g^{(3)} \n",
    "(W^{(2)})^{T}\n",
    "f^\\prime(z^{(2)})\n",
    "$$"
   ]
  },
  {
   "cell_type": "markdown",
   "metadata": {},
   "source": [
    "Now we code this MLP class:"
   ]
  },
  {
   "cell_type": "code",
   "execution_count": 3,
   "metadata": {},
   "outputs": [],
   "source": [
    "class Multi_Layer_Perception(object):\n",
    "    def __init__(self):\n",
    "        #Set parameters\n",
    "        self.inputsize = 2\n",
    "        self.hiddensize = 3\n",
    "        self.outputsize = 1\n",
    "        \n",
    "        #initialize weights with random numbers\n",
    "        self.w1 = np.random.randn(self.inputsize,self.hiddensize)\n",
    "        self.w2 = np.random.randn(self.hiddensize,self.outputsize)\n",
    "        \n",
    "    def forward(self,X):\n",
    "        self.z2 = np.dot(X,self.w1)\n",
    "        self.a2 = self.sigmoid(self.z2)\n",
    "        self.z3 = np.dot(self.a2,self.w2)\n",
    "        yout = self.sigmoid(self.z3)\n",
    "        return yout\n",
    "    \n",
    "    def sigmoid(self,z):\n",
    "        return 1/(1+np.exp(-z))\n",
    "    \n",
    "    def sigmoidd(self,z):\n",
    "        #Derivative of sigmoid\n",
    "        return np.exp(-z)/((1+np.exp(-z))**2)\n",
    "    \n",
    "    def costfunction(self,X,y):\n",
    "        self.yout = self.forward(X)\n",
    "        E = 0.5*sum((y-self.yout)**2)\n",
    "        return E\n",
    "    \n",
    "    def gradient(self,X,y):\n",
    "        self.yout = self.forward(X)\n",
    "        g3 = np.multiply(-(y-self.yout),self.sigmoidd(self.z3))\n",
    "        dEdw2 = np.dot(self.a2.T,g3)\n",
    "        g2 = np.dot(g3,self.w2.T)*self.sigmoidd(self.z2)\n",
    "        dEdw1 = np.dot(X.T,g2)\n",
    "        return dEdw1,dEdw2\n",
    "    \n",
    "    def train(self,X,y,lr):\n",
    "        #training function with learning rate\n",
    "        dw = self.gradient(X,y)\n",
    "        self.w1 = self.w1 - lr * dw[0]\n",
    "        self.w2 = self.w2 - lr * dw[1]"
   ]
  },
  {
   "cell_type": "markdown",
   "metadata": {},
   "source": [
    "## Testing\n",
    "### Initialization\n",
    "Initialize some data with target function"
   ]
  },
  {
   "cell_type": "code",
   "execution_count": 4,
   "metadata": {},
   "outputs": [],
   "source": [
    "X = np.random.rand(3,2)\n",
    "y = targetfunc(X)"
   ]
  },
  {
   "cell_type": "code",
   "execution_count": 5,
   "metadata": {},
   "outputs": [
    {
     "data": {
      "text/plain": [
       "array([[0.91895182, 0.45124773],\n",
       "       [0.89846816, 0.35530726],\n",
       "       [0.09797456, 0.81538086]])"
      ]
     },
     "execution_count": 5,
     "metadata": {},
     "output_type": "execute_result"
    }
   ],
   "source": [
    "X"
   ]
  },
  {
   "cell_type": "code",
   "execution_count": 6,
   "metadata": {},
   "outputs": [
    {
     "data": {
      "text/plain": [
       "array([1.00591009, 0.93195888, 0.56760816])"
      ]
     },
     "execution_count": 6,
     "metadata": {},
     "output_type": "execute_result"
    }
   ],
   "source": [
    "y"
   ]
  },
  {
   "cell_type": "markdown",
   "metadata": {},
   "source": [
    "Transpose target data y for the forward calculation:"
   ]
  },
  {
   "cell_type": "code",
   "execution_count": 7,
   "metadata": {},
   "outputs": [],
   "source": [
    "y = y.reshape(y.shape[0],1)"
   ]
  },
  {
   "cell_type": "markdown",
   "metadata": {},
   "source": [
    "Create a MLP object:"
   ]
  },
  {
   "cell_type": "code",
   "execution_count": 8,
   "metadata": {},
   "outputs": [],
   "source": [
    "MLP = Multi_Layer_Perception()"
   ]
  },
  {
   "cell_type": "markdown",
   "metadata": {},
   "source": [
    "Output and error before training:"
   ]
  },
  {
   "cell_type": "code",
   "execution_count": 9,
   "metadata": {},
   "outputs": [],
   "source": [
    "yo = np.array([MLP.forward(X)])\n",
    "E = np.array([MLP.costfunction(X,y)])"
   ]
  },
  {
   "cell_type": "code",
   "execution_count": 10,
   "metadata": {},
   "outputs": [
    {
     "data": {
      "text/plain": [
       "array([[[0.38156663],\n",
       "        [0.38675576],\n",
       "        [0.22454242]]])"
      ]
     },
     "execution_count": 10,
     "metadata": {},
     "output_type": "execute_result"
    }
   ],
   "source": [
    "yo"
   ]
  },
  {
   "cell_type": "markdown",
   "metadata": {},
   "source": [
    "### Training\n",
    " Training n times with 0.3 learning rate, and see the change of costfunction with the training time. "
   ]
  },
  {
   "cell_type": "code",
   "execution_count": 11,
   "metadata": {},
   "outputs": [],
   "source": [
    "n = 500\n",
    "for i in range(n-1):\n",
    "    MLP.train(X,y,0.3)\n",
    "    yi = np.array([MLP.forward(X)])\n",
    "    Ei = np.array([MLP.costfunction(X,y)])\n",
    "    yo = np.vstack((yo,yi))\n",
    "    E = np.vstack((E,Ei))"
   ]
  },
  {
   "cell_type": "code",
   "execution_count": 12,
   "metadata": {},
   "outputs": [],
   "source": [
    "t = np.arange(1,n+1)"
   ]
  },
  {
   "cell_type": "markdown",
   "metadata": {},
   "source": [
    "Plot time-cost. We can see the back-propagation works. "
   ]
  },
  {
   "cell_type": "code",
   "execution_count": 13,
   "metadata": {},
   "outputs": [
    {
     "data": {
      "text/plain": [
       "Text(0, 0.5, 'cost')"
      ]
     },
     "execution_count": 13,
     "metadata": {},
     "output_type": "execute_result"
    },
    {
     "data": {
      "image/png": "[encoded data removed]",
      "text/plain": [
       "<Figure size 432x288 with 1 Axes>"
      ]
     },
     "metadata": {
      "needs_background": "light"
     },
     "output_type": "display_data"
    }
   ],
   "source": [
    "plt.plot(t,E)\n",
    "plt.xlabel(u'times',fontproperties='SimHei',fontsize=14)\n",
    "plt.ylabel(u'cost',fontproperties='SimHei',fontsize=14)"
   ]
  },
  {
   "cell_type": "code",
   "execution_count": null,
   "metadata": {},
   "outputs": [],
   "source": []
  }
 ],
 "metadata": {
  "kernelspec": {
   "display_name": "Python 3",
   "language": "python",
   "name": "python3"
  },
  "language_info": {
   "codemirror_mode": {
    "name": "ipython",
    "version": 3
   },
   "file_extension": ".py",
   "mimetype": "text/x-python",
   "name": "python",
   "nbconvert_exporter": "python",
   "pygments_lexer": "ipython3",
   "version": "3.7.2"
  }
 },
 "nbformat": 4,
 "nbformat_minor": 2
}
